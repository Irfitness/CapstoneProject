{
    "cells": [
        {
            "cell_type": "markdown",
            "metadata": {
                "collapsed": true
            },
            "source": "Introduction:\n\nA San Francisco data scientist is relocating to Toronto for a new career opportunity. He currently resides in Nob Hill in San Francisco and while he has enjoyed his time living there, he has re-evaluated his needs for the future. Amenities and access to diverse food offerings are a key element for the neighborhood he decides to move to in Toronto; however, since his new role will be primarily remote, he is geographically agnostic as he will not have a daily commute to work.\n\nHis neighborhood checklist (in order of priority) is as follows:\n\n1. Restaurant options (measured as # of restaurants in the neighborhood)\n2. Nightlife options (measured as # of bars in the neighborhood)\n3. Coffee/Cafe options (measured as # of coffee shops / cafes in the neighborhood)\n\nHe has decided to leverage his analytical expertise to crunch the data in order to help him narrow down his neighborhood preferences ahead of seeking his new residence.\n\nData Used:\n\nThe following Wikipedia page, https://en.wikipedia.org/wiki/List_of_postal_codes_of_Canada:_M, was used to build a dataframe of the postal code of each neighborhood along with the borough name and neighborhood name.\n\nIn order to gain the Lat/long data associated with the neighborhoods, a csv file was used from: http://cocl.us/Geospatial_data.\n\nThe Foursquare API was used to explore the neighborhoods and segment them with the checklist of perferences extrapolated for each neighborhood to help build a matrix to determine the best neighborhood(s) in Toronto to investigate further."
        }
    ],
    "metadata": {
        "kernelspec": {
            "display_name": "Python 3.7",
            "language": "python",
            "name": "python3"
        },
        "language_info": {
            "codemirror_mode": {
                "name": "ipython",
                "version": 3
            },
            "file_extension": ".py",
            "mimetype": "text/x-python",
            "name": "python",
            "nbconvert_exporter": "python",
            "pygments_lexer": "ipython3",
            "version": "3.7.9"
        }
    },
    "nbformat": 4,
    "nbformat_minor": 1
}